{
 "cells": [
  {
   "cell_type": "markdown",
   "metadata": {},
   "source": [
    "# Dictionary in Python"
   ]
  },
  {
   "cell_type": "raw",
   "metadata": {},
   "source": [
    " A dictionary is an unordered collection of items. Dictionary stores items as key and value pair.In Python dictionaries are written with curly brackets,"
   ]
  },
  {
   "cell_type": "markdown",
   "metadata": {},
   "source": [
    "# Create a Dictionary"
   ]
  },
  {
   "cell_type": "markdown",
   "metadata": {},
   "source": [
    "empty1 = dict() #using constructor\n",
    "print('empty =', empty2)\n",
    "\n",
    "student1 = dict(id=1, name='Ram')\n",
    "print('student =', student)\n",
    "\n",
    "empty2 = {}\n",
    "print('empty =', empty2)\n",
    "\n",
    "student2 = {1:'Ram'}\n",
    "print('student =', student2)"
   ]
  },
  {
   "cell_type": "code",
   "execution_count": null,
   "metadata": {},
   "outputs": [],
   "source": []
  },
  {
   "cell_type": "markdown",
   "metadata": {},
   "source": [
    "# Accessing elements in Dictionary"
   ]
  },
  {
   "cell_type": "code",
   "execution_count": null,
   "metadata": {
    "collapsed": true
   },
   "outputs": [],
   "source": [
    "Keys are used to access elements from a dictionary.It can be accessed in two ways:\n",
    "\n",
    "i.) using square brackets\n",
    "name1=student1['name']\n",
    "print(name1)\n",
    "\n",
    "ii,) using get method\n",
    "name2=student1.get('name')\n",
    "print(name2)"
   ]
  },
  {
   "cell_type": "code",
   "execution_count": null,
   "metadata": {},
   "outputs": [],
   "source": []
  },
  {
   "cell_type": "markdown",
   "metadata": {},
   "source": [
    "# Changing and adding elements"
   ]
  },
  {
   "cell_type": "raw",
   "metadata": {},
   "source": [
    "Dictionaries are mutable which means you can change its element or add new element to it.\n",
    "student = {id:1,'name':Ram}\n",
    "\n",
    "#changing existing element\n",
    "student['name']='Raj'\n",
    "\n",
    "#add new attribute\n",
    "student['dept']='CSE'\n",
    "\n",
    "print(student)"
   ]
  },
  {
   "cell_type": "code",
   "execution_count": null,
   "metadata": {},
   "outputs": [],
   "source": []
  },
  {
   "cell_type": "markdown",
   "metadata": {},
   "source": [
    "# Remove elements from a Dictionary"
   ]
  },
  {
   "cell_type": "raw",
   "metadata": {},
   "source": [
    "#pop() method removes specified element\n",
    "student.pop('name')\n",
    "\n",
    "#popitem() method removes last element\n",
    "student.popitem()\n",
    "\n",
    "#del keyword removes specified element\n",
    "del student['name']\n",
    "\n",
    "#clear() method empties the dictionary\n",
    "student.clear()"
   ]
  },
  {
   "cell_type": "code",
   "execution_count": null,
   "metadata": {},
   "outputs": [],
   "source": []
  },
  {
   "cell_type": "markdown",
   "metadata": {},
   "source": [
    "# Looping Through Dictionaries"
   ]
  },
  {
   "cell_type": "raw",
   "metadata": {},
   "source": [
    "student={'id':1, 'name':'Riz'}\n",
    "#prints all key\n",
    "for i in student:\n",
    "    print(i)\n",
    "    \n",
    "#prints all values\n",
    "for i in student:\n",
    "    print(student[i])  \n",
    "\n",
    "#prints all values using value method\n",
    "for i in student.values():\n",
    "    print(i) \n",
    "\n",
    "#prints both key and values using items() method\n",
    "for key,val in student.items():\n",
    "    print(key,val) "
   ]
  },
  {
   "cell_type": "code",
   "execution_count": null,
   "metadata": {},
   "outputs": [],
   "source": []
  },
  {
   "cell_type": "markdown",
   "metadata": {},
   "source": [
    "# Nested Dictionary"
   ]
  },
  {
   "cell_type": "raw",
   "metadata": {},
   "source": [
    "student={'id':1, 'Name':'Riz','sub':{'sub_id':1,'sub_name':'Maths'}}\n",
    "print(student)"
   ]
  },
  {
   "cell_type": "code",
   "execution_count": null,
   "metadata": {},
   "outputs": [],
   "source": []
  },
  {
   "cell_type": "markdown",
   "metadata": {},
   "source": [
    "# Copying a Dictionary"
   ]
  },
  {
   "cell_type": "raw",
   "metadata": {},
   "source": [
    "#using copy method\n",
    "student2=student.copy()\n",
    "\n",
    "#using dict\n",
    "student2=dict(student)"
   ]
  },
  {
   "cell_type": "code",
   "execution_count": null,
   "metadata": {},
   "outputs": [],
   "source": []
  },
  {
   "cell_type": "markdown",
   "metadata": {},
   "source": [
    "# Dictionary Methods"
   ]
  },
  {
   "cell_type": "raw",
   "metadata": {},
   "source": [
    "fromkeys()#returns a  dictionary with specified keys and values\n",
    "update()#updates a  dictionary with specified keys and values"
   ]
  },
  {
   "cell_type": "code",
   "execution_count": null,
   "metadata": {},
   "outputs": [],
   "source": []
  }
 ],
 "metadata": {
  "kernelspec": {
   "display_name": "Python 3",
   "language": "python",
   "name": "python3"
  },
  "language_info": {
   "codemirror_mode": {
    "name": "ipython",
    "version": 3
   },
   "file_extension": ".py",
   "mimetype": "text/x-python",
   "name": "python",
   "nbconvert_exporter": "python",
   "pygments_lexer": "ipython3",
   "version": "3.6.2"
  }
 },
 "nbformat": 4,
 "nbformat_minor": 2
}
