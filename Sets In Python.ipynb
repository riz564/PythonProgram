{
 "cells": [
  {
   "cell_type": "markdown",
   "metadata": {},
   "source": [
    "# Sets in Python"
   ]
  },
  {
   "cell_type": "raw",
   "metadata": {},
   "source": [
    " A set is a collection which is unordered and unindexed. In Python sets are written with curly brackets."
   ]
  },
  {
   "cell_type": "markdown",
   "metadata": {},
   "source": [
    "# Declaring a set"
   ]
  },
  {
   "cell_type": "code",
   "execution_count": 27,
   "metadata": {},
   "outputs": [
    {
     "name": "stdout",
     "output_type": "stream",
     "text": [
      "set() {} {False, 1, 'Code with Rizwan'} {'Code with Alpha', 2, True}\n"
     ]
    }
   ],
   "source": [
    "set1 = set()\n",
    "set2 = {}\n",
    "set3 = set([1,\"Code with Rizwan\",False])\n",
    "set4 = {2,\"Code with Alpha\",True}\n",
    "print(set1,set2,set3,set4)"
   ]
  },
  {
   "cell_type": "markdown",
   "metadata": {},
   "source": [
    "# Adding elements in Sets"
   ]
  },
  {
   "cell_type": "code",
   "execution_count": 7,
   "metadata": {},
   "outputs": [
    {
     "name": "stdout",
     "output_type": "stream",
     "text": [
      "{3.14, 'Alpha Technoholics', 3}\n"
     ]
    }
   ],
   "source": [
    "set1.add(3)\n",
    "set1.add(3.14)\n",
    "set1.add(\"Alpha Technoholics\")\n",
    "print(set1)"
   ]
  },
  {
   "cell_type": "raw",
   "metadata": {},
   "source": [
    "Set only contains one value. It does not contain duplicate values."
   ]
  },
  {
   "cell_type": "code",
   "execution_count": 9,
   "metadata": {},
   "outputs": [
    {
     "name": "stdout",
     "output_type": "stream",
     "text": [
      "{3.14, 'Alpha Technoholics', 3}\n"
     ]
    }
   ],
   "source": [
    "set1.add(3)\n",
    "print(set1)"
   ]
  },
  {
   "cell_type": "markdown",
   "metadata": {},
   "source": [
    "# Accessing elements in a set"
   ]
  },
  {
   "cell_type": "raw",
   "metadata": {},
   "source": [
    "Sets can not be accessed by referring to an index, since it is unordered and item has no index. \n",
    "Elements in set can be accessed using 'for loop' and 'in' keyword or operetor to check if value is present in set."
   ]
  },
  {
   "cell_type": "code",
   "execution_count": 13,
   "metadata": {},
   "outputs": [
    {
     "name": "stdout",
     "output_type": "stream",
     "text": [
      "3.14\n",
      "Alpha Technoholics\n",
      "3\n"
     ]
    },
    {
     "data": {
      "text/plain": [
       "True"
      ]
     },
     "execution_count": 13,
     "metadata": {},
     "output_type": "execute_result"
    }
   ],
   "source": [
    "for elem in set1:\n",
    "    print(elem)\n",
    "\n",
    "\"Code with Alpha\" not in set3"
   ]
  },
  {
   "cell_type": "markdown",
   "metadata": {},
   "source": [
    "# Remove elements from a set"
   ]
  },
  {
   "cell_type": "raw",
   "metadata": {},
   "source": [
    "\n",
    "remove() vs discard()\n",
    "Both of these methods remove elements. The only difference is that If specified item is not present in a set:\n",
    "\n",
    "remove() method raises KeyError\n",
    "discard() method does nothing\n",
    "\n",
    "pop() method removes random item from a set and returns it.\n",
    "clear() method to remove all items from the set."
   ]
  },
  {
   "cell_type": "code",
   "execution_count": 29,
   "metadata": {},
   "outputs": [
    {
     "name": "stdout",
     "output_type": "stream",
     "text": [
      "set()\n"
     ]
    }
   ],
   "source": [
    "set4.clear()\n",
    "print(set4)"
   ]
  },
  {
   "cell_type": "markdown",
   "metadata": {},
   "source": [
    "# Set Operations"
   ]
  },
  {
   "cell_type": "markdown",
   "metadata": {},
   "source": [
    "# Union"
   ]
  },
  {
   "cell_type": "raw",
   "metadata": {},
   "source": [
    "A = {'mango', 'apple', 'banana'}\n",
    "B = {'banana', 'grapes', 'orange'}\n",
    "\n",
    "# by operator\n",
    "print(A | B)\n",
    "\n",
    "\n",
    "# by method\n",
    "print(A.union(B))"
   ]
  },
  {
   "cell_type": "code",
   "execution_count": 30,
   "metadata": {},
   "outputs": [
    {
     "name": "stdout",
     "output_type": "stream",
     "text": [
      "{'orange', 'grapes', 'banana', 'apple', 'mango'}\n",
      "{'orange', 'grapes', 'banana', 'apple', 'mango'}\n"
     ]
    }
   ],
   "source": [
    "A = {'mango', 'apple', 'banana'}\n",
    "B = {'banana', 'grapes', 'orange'}\n",
    "\n",
    "# by operator\n",
    "print(A | B)\n",
    "\n",
    "\n",
    "# by method\n",
    "print(A.union(B))"
   ]
  },
  {
   "cell_type": "markdown",
   "metadata": {},
   "source": [
    "# Intersection"
   ]
  },
  {
   "cell_type": "raw",
   "metadata": {},
   "source": [
    "A = {'mango', 'apple', 'banana'}\n",
    "B = {'banana', 'grapes', 'orange'}\n",
    "\n",
    "# by operator\n",
    "print(A & B)\n",
    "\n",
    "# by method\n",
    "print(A.intersection(B))"
   ]
  },
  {
   "cell_type": "code",
   "execution_count": 31,
   "metadata": {},
   "outputs": [
    {
     "name": "stdout",
     "output_type": "stream",
     "text": [
      "{'banana'}\n",
      "{'banana'}\n"
     ]
    }
   ],
   "source": [
    "A = {'mango', 'apple', 'banana'}\n",
    "B = {'banana', 'grapes', 'orange'}\n",
    "\n",
    "# by operator\n",
    "print(A & B)\n",
    "\n",
    "# by method\n",
    "print(A.intersection(B))"
   ]
  },
  {
   "cell_type": "markdown",
   "metadata": {},
   "source": [
    "# Difference"
   ]
  },
  {
   "cell_type": "raw",
   "metadata": {},
   "source": [
    "A = {'mango', 'apple', 'banana'}\n",
    "B = {'banana', 'grapes', 'orange'}\n",
    "\n",
    "# by operator\n",
    "print(A - B)\n",
    "\n",
    "\n",
    "# by method\n",
    "print(A.difference(B))"
   ]
  },
  {
   "cell_type": "code",
   "execution_count": 32,
   "metadata": {},
   "outputs": [
    {
     "name": "stdout",
     "output_type": "stream",
     "text": [
      "{'apple', 'mango'}\n",
      "{'apple', 'mango'}\n"
     ]
    }
   ],
   "source": [
    "A = {'mango', 'apple', 'banana'}\n",
    "B = {'banana', 'grapes', 'orange'}\n",
    "\n",
    "# by operator\n",
    "print(A - B)\n",
    "\n",
    "\n",
    "# by method\n",
    "print(A.difference(B))"
   ]
  },
  {
   "cell_type": "markdown",
   "metadata": {},
   "source": [
    "# Systematic Difference "
   ]
  },
  {
   "cell_type": "raw",
   "metadata": {},
   "source": [
    "A = {'mango', 'apple', 'banana'}\n",
    "B = {'banana', 'grapes', 'orange'}\n",
    "\n",
    "# by operator\n",
    "print(A ^ B)\n",
    "\n",
    "\n",
    "# by method\n",
    "print(A.symmetric_difference(B))"
   ]
  },
  {
   "cell_type": "code",
   "execution_count": 33,
   "metadata": {},
   "outputs": [
    {
     "name": "stdout",
     "output_type": "stream",
     "text": [
      "{'orange', 'grapes', 'apple', 'mango'}\n",
      "{'orange', 'grapes', 'apple', 'mango'}\n"
     ]
    }
   ],
   "source": [
    "A = {'mango', 'apple', 'banana'}\n",
    "B = {'banana', 'grapes', 'orange'}\n",
    "\n",
    "# by operator\n",
    "print(A ^ B)\n",
    "\n",
    "\n",
    "# by method\n",
    "print(A.symmetric_difference(B))"
   ]
  },
  {
   "cell_type": "code",
   "execution_count": null,
   "metadata": {
    "collapsed": true
   },
   "outputs": [],
   "source": []
  }
 ],
 "metadata": {
  "kernelspec": {
   "display_name": "Python 3",
   "language": "python",
   "name": "python3"
  },
  "language_info": {
   "codemirror_mode": {
    "name": "ipython",
    "version": 3
   },
   "file_extension": ".py",
   "mimetype": "text/x-python",
   "name": "python",
   "nbconvert_exporter": "python",
   "pygments_lexer": "ipython3",
   "version": "3.6.2"
  }
 },
 "nbformat": 4,
 "nbformat_minor": 2
}
