{
 "cells": [
  {
   "cell_type": "markdown",
   "metadata": {},
   "source": [
    "# Indexing of List in Python"
   ]
  },
  {
   "cell_type": "raw",
   "metadata": {},
   "source": [
    "Indexing in python with index no of list elements.\n",
    "\n",
    "Suppose we have list of 5 elements i.e. \n",
    "fruits = ['mango','apple','orange','banana','grapes']"
   ]
  },
  {
   "cell_type": "markdown",
   "metadata": {},
   "source": [
    "# Declare a list"
   ]
  },
  {
   "cell_type": "code",
   "execution_count": 20,
   "metadata": {},
   "outputs": [
    {
     "name": "stdout",
     "output_type": "stream",
     "text": [
      "['mango', 'apple', 'orange', 'banana', 'grapes']\n"
     ]
    }
   ],
   "source": [
    "fruits = ['mango','apple','orange','banana','grapes']\n",
    "print(fruits)"
   ]
  },
  {
   "cell_type": "raw",
   "metadata": {},
   "source": [
    "Explanation : As you already know indexing starts from 0, indexing for elememts will be as follows\n",
    "elements ->['mango'] ['apple'] ['orange'] ['banana'] ['grapes']\n",
    "indexes  ->    0         1          2          3          4\n",
    "\n",
    "For Accessing element by index we just need to write index no in [] along with the list name.\n",
    "Example :  \n",
    "Problem : Access 3rd element from list and print the element\n",
    "Soln : For 3rd element index will be 2\n",
    "we need to write ->  \n",
    "print(fruits[2])"
   ]
  },
  {
   "cell_type": "markdown",
   "metadata": {},
   "source": [
    "# Access 3rd element"
   ]
  },
  {
   "cell_type": "code",
   "execution_count": 21,
   "metadata": {},
   "outputs": [
    {
     "name": "stdout",
     "output_type": "stream",
     "text": [
      "orange\n"
     ]
    }
   ],
   "source": [
    "print(fruits[2])"
   ]
  },
  {
   "cell_type": "raw",
   "metadata": {},
   "source": [
    "Slicing is done by indexing list elements.It has 3 paramaters:\n",
    "\n",
    "start index -> Starting position or index from where we want to start our indexing for slicing\n",
    "stop index -> End position where we want to stop the slicing. We need to give the stop index as index+1 as stop index stops               1 index before the index we want to stop our slicing. In other words mention length upto which we want to      slice the list.\n",
    "steps -> \tAn integer number specifying the step of the slicing. Default is 1\n",
    "Syntax\n",
    "listname[start, end, step]\n",
    "\n",
    "Example :\n",
    "Problem : Get elements from 2nd to 4th posistion\n",
    "Solution: start -> 2nd element so index will be 1\n",
    "          stop -> 4th element so index will be 3, so stop will be 3+1->4\n",
    "          print(fruits[1:4])"
   ]
  },
  {
   "cell_type": "code",
   "execution_count": 22,
   "metadata": {},
   "outputs": [
    {
     "name": "stdout",
     "output_type": "stream",
     "text": [
      "['apple', 'orange', 'banana']\n"
     ]
    }
   ],
   "source": [
    "print(fruits[1:4])"
   ]
  },
  {
   "cell_type": "raw",
   "metadata": {},
   "source": [
    "Problem : Get elements from 2nd and 4th posistion\n",
    "Solution: start -> 2nd element so index will be 1\n",
    "          stop -> 4th element so index will be 3, so stop will be 3+1->4\n",
    "          step -> 2 as we have to skip 3rd element\n",
    "          print(fruits[1:4:2])"
   ]
  },
  {
   "cell_type": "code",
   "execution_count": 23,
   "metadata": {},
   "outputs": [
    {
     "name": "stdout",
     "output_type": "stream",
     "text": [
      "['apple', 'banana']\n"
     ]
    }
   ],
   "source": [
    "print(fruits[1:4:2])"
   ]
  },
  {
   "cell_type": "markdown",
   "metadata": {},
   "source": [
    "# Negative Indexing"
   ]
  },
  {
   "cell_type": "raw",
   "metadata": {},
   "source": [
    "Python also supports negative Indexing:\n",
    "\n",
    "Here is our list of 5 elements i.e. \n",
    "fruits = ['mango','apple','orange','banana','grapes']\n",
    "\n",
    "Explanation : Negative indexing for elememts will be starting from last element as -1 as follows\n",
    "elements ->['mango'] ['apple'] ['orange'] ['banana'] ['grapes']\n",
    "indexes  ->   -5        -4         -3         -2          -1\n",
    "\n",
    "Example :  \n",
    "Problem : Access last element from list and print the element\n",
    "Soln : For last element index will be -1\n",
    "we need to write ->  \n",
    "print(fruits[-1])"
   ]
  },
  {
   "cell_type": "code",
   "execution_count": 24,
   "metadata": {},
   "outputs": [
    {
     "name": "stdout",
     "output_type": "stream",
     "text": [
      "grapes\n"
     ]
    }
   ],
   "source": [
    "print(fruits[-1])"
   ]
  },
  {
   "cell_type": "raw",
   "metadata": {},
   "source": [
    "Example :  \n",
    "Problem : Access second last element from list and print the element\n",
    "Soln : For  second last element index will be -2\n",
    "we need to write ->  \n",
    "print(fruits[-2])"
   ]
  },
  {
   "cell_type": "code",
   "execution_count": 25,
   "metadata": {},
   "outputs": [
    {
     "name": "stdout",
     "output_type": "stream",
     "text": [
      "banana\n"
     ]
    }
   ],
   "source": [
    "print(fruits[-2])"
   ]
  },
  {
   "cell_type": "raw",
   "metadata": {},
   "source": [
    "Advantages of negative indexing: It is very helpful to get the last element from list if length of list is very big(no need to iterate till last) or we don't know the length of list(access last element by just giving -1). It saves time and line of codes.\n",
    "\n",
    "Example:\n",
    "One way to access last element without negative indexing\n",
    "fruits = ['mango','apple','orange','banana','grapes']\n",
    "l=len(fruits) # l = 5\n",
    "print(fruits[l-1]) #index will be l-1 =4"
   ]
  },
  {
   "cell_type": "code",
   "execution_count": 16,
   "metadata": {},
   "outputs": [
    {
     "name": "stdout",
     "output_type": "stream",
     "text": [
      "grapes\n"
     ]
    }
   ],
   "source": [
    "fruits = ['mango','apple','orange','banana','grapes']\n",
    "l=len(fruits) # l = 5\n",
    "print(fruits[l-1]) #index will be l-1 =4"
   ]
  },
  {
   "cell_type": "code",
   "execution_count": null,
   "metadata": {
    "collapsed": true
   },
   "outputs": [],
   "source": [
    "Example:\n",
    "Another way to access last element with negative indexing\n",
    "\n",
    "print(fruits[-1])"
   ]
  },
  {
   "cell_type": "code",
   "execution_count": 17,
   "metadata": {},
   "outputs": [
    {
     "name": "stdout",
     "output_type": "stream",
     "text": [
      "grapes\n"
     ]
    }
   ],
   "source": [
    "print(fruits[-1])"
   ]
  },
  {
   "cell_type": "markdown",
   "metadata": {},
   "source": [
    "# index function in python"
   ]
  },
  {
   "cell_type": "raw",
   "metadata": {},
   "source": [
    "index() method returns the index of the specified element in the list.\n",
    "\n",
    "Syntax\n",
    "\n",
    "list.index(element, start, end)\n",
    "\n",
    " \n",
    "\n",
    "Parameters\n",
    "element - the element to be searched\n",
    "start (optional) - start searching from this index\n",
    "end (optional) - search the element up to this index\n",
    "\n",
    "Example: Find the index of the element\n",
    "\n",
    "fruits = ['mango','apple','orange','banana','grapes']\n",
    "\n",
    "# index of 'orange' in vowels\n",
    "index = fruits.index('orange')\n",
    "print('The index of orange:', index)\n",
    "\n",
    "# element 'grapes' is searched\n",
    "# index of the first 'grapes' is returned\n",
    "index = fruits.index('grapes')\n",
    "print('The index of grapes:', index)"
   ]
  },
  {
   "cell_type": "code",
   "execution_count": 18,
   "metadata": {},
   "outputs": [
    {
     "name": "stdout",
     "output_type": "stream",
     "text": [
      "The index of orange: 2\n",
      "The index of grapes: 4\n"
     ]
    }
   ],
   "source": [
    "fruits = ['mango','apple','orange','banana','grapes']\n",
    "\n",
    "# index of 'orange' in vowels\n",
    "index = fruits.index('orange')\n",
    "print('The index of orange:', index)\n",
    "\n",
    "# element 'grapes' is searched\n",
    "# index of the first 'grapes' is returned\n",
    "index = fruits.index('grapes')\n",
    "print('The index of grapes:', index)"
   ]
  },
  {
   "cell_type": "markdown",
   "metadata": {},
   "source": [
    "# slice function in python"
   ]
  },
  {
   "cell_type": "raw",
   "metadata": {},
   "source": [
    "slice() function returns sliced object from list or tuples\n",
    "\n",
    "Syntax\n",
    "slice(start, stop, step)\n",
    "\n",
    "start index\t-> index number specifying at which position to start the slicing. Default is 0\n",
    "stop index ->\tindex number+1 or length specifying at which position to end the slicing\n",
    "step\t-> specifying the step of the slicing. Default is 1\n",
    "\n",
    "Example\n",
    "Create a list and a slice object. Start the slice object at index 3, and slice to index 5, and return the result:\n",
    "\n",
    "fruits = ['mango','apple','orange','banana','grapes']\n",
    "x = slice(3, 5)\n",
    "print(fruits[x])\n"
   ]
  },
  {
   "cell_type": "code",
   "execution_count": 19,
   "metadata": {},
   "outputs": [
    {
     "name": "stdout",
     "output_type": "stream",
     "text": [
      "['banana', 'grapes']\n"
     ]
    }
   ],
   "source": [
    "fruits = ['mango','apple','orange','banana','grapes']\n",
    "x = slice(3, 5)\n",
    "print(fruits[x])\n"
   ]
  },
  {
   "cell_type": "code",
   "execution_count": null,
   "metadata": {
    "collapsed": true
   },
   "outputs": [],
   "source": []
  }
 ],
 "metadata": {
  "kernelspec": {
   "display_name": "Python 3",
   "language": "python",
   "name": "python3"
  },
  "language_info": {
   "codemirror_mode": {
    "name": "ipython",
    "version": 3
   },
   "file_extension": ".py",
   "mimetype": "text/x-python",
   "name": "python",
   "nbconvert_exporter": "python",
   "pygments_lexer": "ipython3",
   "version": "3.6.2"
  }
 },
 "nbformat": 4,
 "nbformat_minor": 2
}
