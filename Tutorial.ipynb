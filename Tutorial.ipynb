{
 "cells": [
  {
   "cell_type": "markdown",
   "metadata": {},
   "source": [
    "Interpreter :Translates program one statement at a time.\t\n",
    "Compiler : Scans the entire program and translates it as a whole into machine code. Like Java"
   ]
  },
  {
   "cell_type": "markdown",
   "metadata": {},
   "source": [
    "# Hello World"
   ]
  },
  {
   "cell_type": "code",
   "execution_count": 2,
   "metadata": {},
   "outputs": [
    {
     "name": "stdout",
     "output_type": "stream",
     "text": [
      "Hello World\n"
     ]
    }
   ],
   "source": [
    "print('Hello World')"
   ]
  },
  {
   "cell_type": "markdown",
   "metadata": {},
   "source": [
    "# Variables"
   ]
  },
  {
   "cell_type": "code",
   "execution_count": 7,
   "metadata": {},
   "outputs": [
    {
     "name": "stdout",
     "output_type": "stream",
     "text": [
      "Hello World\n"
     ]
    }
   ],
   "source": [
    "msg = \"Hello World\"\n",
    "print(msg)"
   ]
  },
  {
   "cell_type": "markdown",
   "metadata": {},
   "source": [
    "# Conactenate"
   ]
  },
  {
   "cell_type": "code",
   "execution_count": 8,
   "metadata": {},
   "outputs": [
    {
     "name": "stdout",
     "output_type": "stream",
     "text": [
      "Mohd Rizwan\n"
     ]
    }
   ],
   "source": [
    "fname = \"Mohd\"\n",
    "lname = \"Rizwan\"\n",
    "name = fname+\" \"+lname\n",
    "print(name)"
   ]
  },
  {
   "cell_type": "markdown",
   "metadata": {},
   "source": [
    "# Lists"
   ]
  },
  {
   "cell_type": "markdown",
   "metadata": {},
   "source": [
    "A list is a data structure in Python that is a mutable, or changeable, ordered sequence of elements. Each element or value that is inside of a list is called an item. Just as strings are defined as characters between quotes, lists are defined by having values between square brackets [ ] "
   ]
  },
  {
   "cell_type": "markdown",
   "metadata": {},
   "source": [
    "Lets create a list"
   ]
  },
  {
   "cell_type": "code",
   "execution_count": 25,
   "metadata": {},
   "outputs": [
    {
     "data": {
      "text/plain": [
       "['mangoes', 'apples', 'banana']"
      ]
     },
     "execution_count": 25,
     "metadata": {},
     "output_type": "execute_result"
    }
   ],
   "source": [
    "fruits = ['mangoes','apples','banana']\n",
    "fruits"
   ]
  },
  {
   "cell_type": "markdown",
   "metadata": {},
   "source": [
    "Get the first item in list"
   ]
  },
  {
   "cell_type": "code",
   "execution_count": 26,
   "metadata": {},
   "outputs": [
    {
     "data": {
      "text/plain": [
       "'apples'"
      ]
     },
     "execution_count": 26,
     "metadata": {},
     "output_type": "execute_result"
    }
   ],
   "source": [
    "fruits[1]"
   ]
  },
  {
   "cell_type": "markdown",
   "metadata": {},
   "source": [
    "Loop through a list"
   ]
  },
  {
   "cell_type": "code",
   "execution_count": 28,
   "metadata": {},
   "outputs": [
    {
     "name": "stdout",
     "output_type": "stream",
     "text": [
      "mangoes\n",
      "apples\n",
      "banana\n"
     ]
    }
   ],
   "source": [
    "l=len(fruits)\n",
    "for i in range(0,l):\n",
    "    print(fruits[i])"
   ]
  },
  {
   "cell_type": "markdown",
   "metadata": {},
   "source": [
    "Adding items to a list"
   ]
  },
  {
   "cell_type": "code",
   "execution_count": 30,
   "metadata": {},
   "outputs": [
    {
     "data": {
      "text/plain": [
       "['mangoes', 'apples', 'banana', 'Grapes']"
      ]
     },
     "execution_count": 30,
     "metadata": {},
     "output_type": "execute_result"
    }
   ],
   "source": [
    "fruits.append('Grapes')\n",
    "fruits"
   ]
  },
  {
   "cell_type": "markdown",
   "metadata": {},
   "source": [
    "Making numerical list"
   ]
  },
  {
   "cell_type": "code",
   "execution_count": 33,
   "metadata": {},
   "outputs": [
    {
     "name": "stdout",
     "output_type": "stream",
     "text": [
      "[1, 4, 9, 16, 25, 36, 49, 64, 81, 100]\n"
     ]
    }
   ],
   "source": [
    "sq=[]\n",
    "for x in range(1,11):\n",
    "    sq.append(x**2)\n",
    "print(sq)"
   ]
  },
  {
   "cell_type": "markdown",
   "metadata": {},
   "source": [
    "List Comprehension"
   ]
  },
  {
   "cell_type": "markdown",
   "metadata": {},
   "source": [
    "A list comprehension generally consist of these parts :\n",
    "\n",
    "Output expression,\n",
    "Input sequence,\n",
    "A variable representing a member of the input sequence and\n",
    "An optional predicate part\n",
    "\n",
    "For example :\n",
    "\n",
    "lst  =  [x ** 2  for x in range (1, 11)] \n",
    "\n",
    "here, x ** 2 is output expression, \n",
    "      range (1, 11)  is input sequence, \n",
    "      x is variable and   \n",
    "      if x % 2 == 1 is predicate part."
   ]
  },
  {
   "cell_type": "markdown",
   "metadata": {},
   "source": [
    "Python has an easier way to solve the above problem using List Comprehension. List comprehension is an elegant way to define and create lists based on existing lists.\n",
    "\n",
    "Let’s see how the above program can be written using list comprehensions."
   ]
  },
  {
   "cell_type": "code",
   "execution_count": 35,
   "metadata": {},
   "outputs": [
    {
     "name": "stdout",
     "output_type": "stream",
     "text": [
      "[1, 8, 27, 64, 125, 216, 343, 512, 729, 1000]\n"
     ]
    }
   ],
   "source": [
    "lst  =  [x ** 3  for x in range (1, 11)] \n",
    "print(lst)"
   ]
  },
  {
   "cell_type": "markdown",
   "metadata": {},
   "source": [
    "Slicing a list: It is basically used to get a range of values from within a list"
   ]
  },
  {
   "cell_type": "markdown",
   "metadata": {},
   "source": [
    "[start : stop : steps]  \n",
    "\n",
    "which means that slicing will start from index start\n",
    "will go up to stop in step of steps. \n",
    " Default value of start is 0, stop is last index of list\n",
    " and for step it is 1 "
   ]
  },
  {
   "cell_type": "markdown",
   "metadata": {},
   "source": [
    "lst =list(range(1, 11)) \n",
    "[1,2,3,4,5,6,8,9,10]\n",
    "\n",
    "#below list has numbers from 2 to 5 \n",
    "lst1_5 = lst[1 : 5] \n",
    "print (lst1_5) \n",
    "   \n",
    "#below list has numbers from 6 to 8 \n",
    "lst5_8 = lst[5 : 8] \n",
    "print (lst5_8) \n",
    "   \n",
    "#below list has numbers from 2 to 10 \n",
    "lst1_ = lst[1 : ] \n",
    "print (lst1_) \n",
    "   \n",
    "#below list has numbers from 1 to 5 \n",
    "lst_5 = lst[: 5] \n",
    "print (lst_5) \n",
    "   \n",
    "#below list has numbers from 2 to 8 in step 2 \n",
    "lst1_8_2 = lst[1 : 8 : 2] \n",
    "print (lst1_8_2) \n",
    "   \n",
    "#below list has numbers from 10 to 1 \n",
    "lst_rev = lst[ : : -1] \n",
    "print (lst_rev) \n",
    "   \n",
    "#below list has numbers from 10 to 6 in step 2 \n",
    "lst_rev_9_5_2 = lst[9 : 4 : -2] \n",
    "print (lst_rev_9_5_2)"
   ]
  },
  {
   "cell_type": "code",
   "execution_count": 44,
   "metadata": {},
   "outputs": [
    {
     "name": "stdout",
     "output_type": "stream",
     "text": [
      "nawziR\n"
     ]
    }
   ],
   "source": [
    "s=\"Rizwan\"\n",
    "lst_rev = s[ : : -1] \n",
    "print (lst_rev) "
   ]
  },
  {
   "cell_type": "markdown",
   "metadata": {},
   "source": [
    "Copying a list"
   ]
  },
  {
   "cell_type": "markdown",
   "metadata": {
    "collapsed": true
   },
   "source": [
    "Copy an Object in Python\n",
    "In Python, we use = operator to create a copy of an object. You may think that this creates a new object; it doesn't. It only creates a new variable that shares the reference of the original object.\n",
    "\n",
    "Let's take an example where we create a list named old_list and pass an object reference to new_list using = operator.\n",
    "\n",
    "Example 1: Copy using = operator\n",
    "old_list = [[1, 2, 3], [4, 5, 6], [7, 8, 'a']]\n",
    "new_list = old_list\n",
    "\n",
    "new_list[2][2] = 9\n",
    "\n",
    "print('Old List:', old_list)\n",
    "print('ID of Old List:', id(old_list))\n",
    "\n",
    "print('New List:', new_list)\n",
    "print('ID of New List:', id(new_list))"
   ]
  },
  {
   "cell_type": "markdown",
   "metadata": {},
   "source": [
    "A copy is sometimes needed so one can change one copy without changing the other. In Python, there are two ways to create copies :\n",
    "\n",
    "Deep copy\n",
    "Shallow copy\n",
    "In order to make these copy, we use copy module. We use copy module for shallow and deep copy operations. For Example\n",
    "\n",
    "filter_none\n",
    "brightness_4\n",
    "#importing copy module \n",
    "import copy \n",
    "  \n",
    "#initializing list 1  \n",
    "li1 = [1, 2, [3,5], 4] \n",
    "  \n",
    "  \n",
    "#using copy for shallow copy   \n",
    "li2 = copy.copy(li1)  \n",
    "  \n",
    "#using deepcopy for deepcopy   \n",
    "li3 = copy.deepcopy(li1)  "
   ]
  },
  {
   "cell_type": "code",
   "execution_count": 46,
   "metadata": {},
   "outputs": [],
   "source": [
    "import copy \n",
    "  \n",
    "#initializing list 1  \n",
    "li1 = [1, 2, [3,5], 4] \n",
    "  \n",
    "  \n",
    "#using copy for shallow copy   \n",
    "li2 = copy.copy(li1)  \n",
    "  \n",
    "#using deepcopy for deepcopy   \n",
    "li3 = copy.deepcopy(li1)  \n"
   ]
  },
  {
   "cell_type": "code",
   "execution_count": 47,
   "metadata": {},
   "outputs": [
    {
     "name": "stdout",
     "output_type": "stream",
     "text": [
      "[1, 2, [3, 6], 4]\n",
      "[1, 2, [3, 5], 4]\n"
     ]
    }
   ],
   "source": [
    "li1[2][1]=6\n",
    "print(li2)\n",
    "print(li3)\n",
    "\n",
    "li2->oa<-li1\n",
    "li3->ob\n",
    "li1->oa"
   ]
  },
  {
   "cell_type": "markdown",
   "metadata": {},
   "source": [
    "# Tuples"
   ]
  },
  {
   "cell_type": "code",
   "execution_count": null,
   "metadata": {
    "collapsed": true
   },
   "outputs": [],
   "source": []
  },
  {
   "cell_type": "markdown",
   "metadata": {},
   "source": [
    "A tuple is a collection of objects which ordered and immutable. Tuples are sequences, just like lists. The differences between tuples and lists are, the tuples cannot be changed unlike lists and tuples use parentheses, whereas lists use square brackets."
   ]
  },
  {
   "cell_type": "markdown",
   "metadata": {},
   "source": [
    "Making a tuple"
   ]
  },
  {
   "cell_type": "code",
   "execution_count": 48,
   "metadata": {},
   "outputs": [
    {
     "data": {
      "text/plain": [
       "(12, 8, 9)"
      ]
     },
     "execution_count": 48,
     "metadata": {},
     "output_type": "execute_result"
    }
   ],
   "source": [
    "dimensions=(12,8,9)\n",
    "dimensions"
   ]
  },
  {
   "cell_type": "markdown",
   "metadata": {},
   "source": [
    "Credits : Geeks for Geeks and Programiz"
   ]
  },
  {
   "cell_type": "code",
   "execution_count": null,
   "metadata": {
    "collapsed": true
   },
   "outputs": [],
   "source": []
  }
 ],
 "metadata": {
  "kernelspec": {
   "display_name": "Python 3",
   "language": "python",
   "name": "python3"
  },
  "language_info": {
   "codemirror_mode": {
    "name": "ipython",
    "version": 3
   },
   "file_extension": ".py",
   "mimetype": "text/x-python",
   "name": "python",
   "nbconvert_exporter": "python",
   "pygments_lexer": "ipython3",
   "version": "3.6.2"
  }
 },
 "nbformat": 4,
 "nbformat_minor": 2
}
