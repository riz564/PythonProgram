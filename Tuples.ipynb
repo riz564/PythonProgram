{
 "cells": [
  {
   "cell_type": "markdown",
   "metadata": {},
   "source": [
    "# Tuples in Python"
   ]
  },
  {
   "cell_type": "raw",
   "metadata": {},
   "source": [
    " Tuple is a built-in Data type in python. It contains sequence of elements like List."
   ]
  },
  {
   "cell_type": "markdown",
   "metadata": {},
   "source": [
    "# Declaring a tuple"
   ]
  },
  {
   "cell_type": "code",
   "execution_count": 19,
   "metadata": {},
   "outputs": [
    {
     "name": "stdout",
     "output_type": "stream",
     "text": [
      "(1, 2, 3, 4, 5)\n"
     ]
    }
   ],
   "source": [
    "tup = (1,2,3,4,5)\n",
    "print(tup)"
   ]
  },
  {
   "cell_type": "markdown",
   "metadata": {},
   "source": [
    "# Accesing elements in tuple"
   ]
  },
  {
   "cell_type": "code",
   "execution_count": 20,
   "metadata": {},
   "outputs": [
    {
     "name": "stdout",
     "output_type": "stream",
     "text": [
      "2\n"
     ]
    }
   ],
   "source": [
    "print(tup[1])"
   ]
  },
  {
   "cell_type": "raw",
   "metadata": {},
   "source": [
    "Now you must be thinking Why tuple? As this also contains series of elements like list. Then, What is the difference?"
   ]
  },
  {
   "cell_type": "markdown",
   "metadata": {},
   "source": [
    "# Difference between tuple an list"
   ]
  },
  {
   "cell_type": "raw",
   "metadata": {},
   "source": [
    "|          List                 |              Tuples             |\n",
    "|-----------------------------------------------------------------|\n",
    "| Mutable                       | Immutable                       |\n",
    "| Slower                        | Faster                          |\n",
    "| More memory                   | Memory Efficient                |\n",
    "\n",
    "li = [1,2,3]\n",
    "li[1] = 5\n",
    "print(li)\n",
    "tu = (1,2,3)\n",
    "tu[2] = 5\n",
    "print(tu)"
   ]
  },
  {
   "cell_type": "code",
   "execution_count": 24,
   "metadata": {},
   "outputs": [
    {
     "ename": "TypeError",
     "evalue": "'tuple' object does not support item assignment",
     "output_type": "error",
     "traceback": [
      "\u001b[1;31m---------------------------------------------------------------------------\u001b[0m",
      "\u001b[1;31mTypeError\u001b[0m                                 Traceback (most recent call last)",
      "\u001b[1;32m<ipython-input-24-c58cee5e89ff>\u001b[0m in \u001b[0;36m<module>\u001b[1;34m()\u001b[0m\n\u001b[0;32m      1\u001b[0m \u001b[0mtu\u001b[0m \u001b[1;33m=\u001b[0m \u001b[1;33m(\u001b[0m\u001b[1;36m1\u001b[0m\u001b[1;33m,\u001b[0m\u001b[1;36m2\u001b[0m\u001b[1;33m,\u001b[0m\u001b[1;36m3\u001b[0m\u001b[1;33m)\u001b[0m\u001b[1;33m\u001b[0m\u001b[0m\n\u001b[1;32m----> 2\u001b[1;33m \u001b[0mtu\u001b[0m\u001b[1;33m[\u001b[0m\u001b[1;36m2\u001b[0m\u001b[1;33m]\u001b[0m \u001b[1;33m=\u001b[0m \u001b[1;36m5\u001b[0m\u001b[1;33m\u001b[0m\u001b[0m\n\u001b[0m\u001b[0;32m      3\u001b[0m \u001b[0mprint\u001b[0m\u001b[1;33m(\u001b[0m\u001b[0mtu\u001b[0m\u001b[1;33m)\u001b[0m\u001b[1;33m\u001b[0m\u001b[0m\n",
      "\u001b[1;31mTypeError\u001b[0m: 'tuple' object does not support item assignment"
     ]
    }
   ],
   "source": [
    "tu = (1,2,3)\n",
    "tu[2] = 5\n",
    "print(tu)"
   ]
  },
  {
   "cell_type": "raw",
   "metadata": {},
   "source": [
    "Tuple is immutable, but a object in tuple can be mutable.\n",
    "For e.g:\n",
    "Suppose I have a list\n",
    "li = [1,2,3]\n",
    "tup = (li,6,7,8)\n",
    "li.append(4)\n",
    "li.append(5)\n",
    "print(tup)"
   ]
  },
  {
   "cell_type": "code",
   "execution_count": 25,
   "metadata": {},
   "outputs": [
    {
     "name": "stdout",
     "output_type": "stream",
     "text": [
      "([1, 2, 3, 4, 5], 6, 7, 8)\n"
     ]
    }
   ],
   "source": [
    "li = [1,2,3]\n",
    "tup = (li,6,7,8)\n",
    "li.append(4)\n",
    "li.append(5)\n",
    "print(tup)"
   ]
  },
  {
   "cell_type": "raw",
   "metadata": {},
   "source": [
    "tup1 = () #empty tuple\n",
    "tup2 = (\"Alpha\",\"Tech\")\n",
    "li = [1,2,4]\n",
    "tup3 = (li)\n",
    "print(tup1,tup2,tup3)"
   ]
  },
  {
   "cell_type": "code",
   "execution_count": 26,
   "metadata": {},
   "outputs": [
    {
     "name": "stdout",
     "output_type": "stream",
     "text": [
      "() ('Alpha', 'Tech') [1, 2, 4]\n"
     ]
    }
   ],
   "source": [
    "tup1 = ()\n",
    "tup2 = (\"Alpha\",\"Tech\")\n",
    "li = [1,2,4]\n",
    "tup3 = (li)\n",
    "print(tup1,tup2,tup3)"
   ]
  },
  {
   "cell_type": "code",
   "execution_count": null,
   "metadata": {
    "collapsed": true
   },
   "outputs": [],
   "source": []
  }
 ],
 "metadata": {
  "kernelspec": {
   "display_name": "Python 3",
   "language": "python",
   "name": "python3"
  },
  "language_info": {
   "codemirror_mode": {
    "name": "ipython",
    "version": 3
   },
   "file_extension": ".py",
   "mimetype": "text/x-python",
   "name": "python",
   "nbconvert_exporter": "python",
   "pygments_lexer": "ipython3",
   "version": "3.6.2"
  }
 },
 "nbformat": 4,
 "nbformat_minor": 2
}
